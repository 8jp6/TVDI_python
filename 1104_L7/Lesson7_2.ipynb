{
 "cells": [
  {
   "cell_type": "code",
   "execution_count": null,
   "metadata": {},
   "outputs": [],
   "source": [
    "import sqlite3\n",
    "def get_county()->list[str]:\n",
    "    '''\n",
    "    docString\n",
    "    parameter:\n",
    "    return:\n",
    "        傳出所有的城市名稱\n",
    "    '''\n",
    "    conn = sqlite3.connect(\"AQI.db\")\n",
    "    with conn:\n",
    "        # Create a cursor object to execute SQL commands\n",
    "        cursor = conn.cursor()\n",
    "        # SQL query to select unique sitenames from records table\n",
    "        sql = '''\n",
    "        SELECT DISTINCT county\n",
    "        FROM records\n",
    "        '''\n",
    "        # Execute the SQL query\n",
    "        cursor.execute(sql)\n",
    "        # Get all results and extract first item from each row into a list\n",
    "        counties = [items[0] for items in cursor.fetchall()]\n",
    "    \n",
    "    # Return the list of unique sitenames\n",
    "    return counties\n",
    "get_county()"
   ]
  }
 ],
 "metadata": {
  "kernelspec": {
   "display_name": "venv",
   "language": "python",
   "name": "python3"
  },
  "language_info": {
   "name": "python",
   "version": "3.11.10"
  }
 },
 "nbformat": 4,
 "nbformat_minor": 2
}
