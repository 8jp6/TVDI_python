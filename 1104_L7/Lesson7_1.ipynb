{
 "cells": [
  {
   "cell_type": "markdown",
   "metadata": {},
   "source": [
    "/ -> 前面的參數全部用引數值呼叫  \n",
    "'*' ->後面的參數全部用**引數名稱**呼叫"
   ]
  },
  {
   "cell_type": "markdown",
   "metadata": {},
   "source": [
    "建立table"
   ]
  },
  {
   "cell_type": "code",
   "execution_count": 30,
   "metadata": {},
   "outputs": [],
   "source": [
    "import sqlite3\n",
    "conn = sqlite3.connect('./aqi2.db')\n",
    "with conn:\n",
    "    sql = '''\n",
    "    CREATE TABLE IF NOT EXISTS records (\n",
    "        id INTEGER NOT NULL PRIMARY KEY AUTOINCREMENT,   \n",
    "        sitename TEXT NOT NULL,\n",
    "        county TEXT,\n",
    "        aqi INTEGER,\n",
    "        status TEXT,\n",
    "        pm25 NUMERIC,\n",
    "        date TEXT,\n",
    "        lon NUMERIC,\n",
    "        lat NUMERIC,\n",
    "        UNIQUE(sitename,date)\n",
    "    );\n",
    "    '''\n",
    "    cursor = conn.cursor()\n",
    "    cursor.execute(sql)"
   ]
  },
  {
   "cell_type": "markdown",
   "metadata": {},
   "source": [
    "_測試_"
   ]
  },
  {
   "cell_type": "code",
   "execution_count": 13,
   "metadata": {},
   "outputs": [
    {
     "data": {
      "text/plain": [
       "[['屏東(枋山)',\n",
       "  '屏東縣',\n",
       "  '35',\n",
       "  '良好',\n",
       "  '8',\n",
       "  '2024-11-04 11:00',\n",
       "  '22.260899',\n",
       "  '120.651472'],\n",
       " ['屏東(枋山)',\n",
       "  '屏東縣',\n",
       "  '34',\n",
       "  '良好',\n",
       "  '18',\n",
       "  '2024-11-04 10:00',\n",
       "  '22.260899',\n",
       "  '120.651472'],\n",
       " ['屏東(枋山)',\n",
       "  '屏東縣',\n",
       "  '34',\n",
       "  '良好',\n",
       "  '18',\n",
       "  '2024-11-04 10:00',\n",
       "  '22.260899',\n",
       "  '120.651472'],\n",
       " ['屏東(枋山)',\n",
       "  '屏東縣',\n",
       "  '32',\n",
       "  '良好',\n",
       "  '5',\n",
       "  '2024-11-04 09:00',\n",
       "  '22.260899',\n",
       "  '120.651472'],\n",
       " ['屏東(枋山)',\n",
       "  '屏東縣',\n",
       "  '32',\n",
       "  '良好',\n",
       "  '5',\n",
       "  '2024-11-04 09:00',\n",
       "  '22.260899',\n",
       "  '120.651472'],\n",
       " ['屏東(枋山)',\n",
       "  '屏東縣',\n",
       "  '33',\n",
       "  '良好',\n",
       "  '6',\n",
       "  '2024-11-04 08:00',\n",
       "  '22.260899',\n",
       "  '120.651472'],\n",
       " ['屏東(枋山)',\n",
       "  '屏東縣',\n",
       "  '33',\n",
       "  '良好',\n",
       "  '6',\n",
       "  '2024-11-04 08:00',\n",
       "  '22.260899',\n",
       "  '120.651472'],\n",
       " ['屏東(枋山)',\n",
       "  '屏東縣',\n",
       "  '33',\n",
       "  '良好',\n",
       "  '5',\n",
       "  '2024-11-04 07:00',\n",
       "  '22.260899',\n",
       "  '120.651472'],\n",
       " ['屏東(枋山)',\n",
       "  '屏東縣',\n",
       "  '33',\n",
       "  '良好',\n",
       "  '5',\n",
       "  '2024-11-04 07:00',\n",
       "  '22.260899',\n",
       "  '120.651472'],\n",
       " ['屏東(枋山)',\n",
       "  '屏東縣',\n",
       "  '35',\n",
       "  '良好',\n",
       "  '4',\n",
       "  '2024-11-04 06:00',\n",
       "  '22.260899',\n",
       "  '120.651472'],\n",
       " ['屏東(枋山)',\n",
       "  '屏東縣',\n",
       "  '35',\n",
       "  '良好',\n",
       "  '4',\n",
       "  '2024-11-04 06:00',\n",
       "  '22.260899',\n",
       "  '120.651472'],\n",
       " ['屏東(枋山)',\n",
       "  '屏東縣',\n",
       "  '35',\n",
       "  '良好',\n",
       "  '3',\n",
       "  '2024-11-04 05:00',\n",
       "  '22.260899',\n",
       "  '120.651472']]"
      ]
     },
     "execution_count": 13,
     "metadata": {},
     "output_type": "execute_result"
    }
   ],
   "source": [
    "import requests\n",
    "def get_sitename() ->list[str]:\n",
    "    '''\n",
    "    get sie mean\n",
    "    '''\n",
    "    url = 'https://data.moenv.gov.tw/api/v2/aqx_p_488?api_key=e8dd42e6-9b8b-43f8-991e-b3dee723a52d&limit=1000&sort=datacreationdate%20desc&format=JSON'\n",
    "    try:\n",
    "        response = requests.get(url)\n",
    "        response.raise_for_status()\n",
    "        data = response.json()\n",
    "    except Exception as e:\n",
    "        print(e)\n",
    "    else:\n",
    "        sitenames = set()\n",
    "        for items in data['records']:\n",
    "            sitenames.add(items['sitename'])\n",
    "\n",
    "        sitenames = list(sitenames)\n",
    "        return sitenames\n",
    "    \n",
    "def get_selected_data(sitename:str) -> list[list]:\n",
    "    url = 'https://data.moenv.gov.tw/api/v2/aqx_p_488?api_key=e8dd42e6-9b8b-43f8-991e-b3dee723a52d&limit=1000&sort=datacreationdate%20desc&format=JSON'\n",
    "    try:\n",
    "        response = requests.get(url)\n",
    "        response.raise_for_status()\n",
    "        data = response.json()\n",
    "    except Exception as e:\n",
    "        print(e)\n",
    "    else:\n",
    "        outerlist = []\n",
    "        for items in data['records']:\n",
    "            if items['sitename'] == sitename:\n",
    "                innerlist = [items['sitename'], items['county'], items['aqi'], items['status'], items['pm2.5'], items['datacreationdate'], items['latitude'], items['longitude']]\n",
    "                outerlist.append(innerlist)\n",
    "            \n",
    "        return outerlist\n",
    "    \n",
    "get_selected_data(sitename='屏東(枋山)')"
   ]
  },
  {
   "cell_type": "code",
   "execution_count": 14,
   "metadata": {},
   "outputs": [],
   "source": [
    "import sqlite3\n",
    "conn = sqlite3.connect('aqi2.db')\n",
    "with conn:\n",
    "    sql = '''\n",
    "    INSERT OR IGNORE INTO records (sitename,county,aqi,status,pm25,date,lat,lon)\n",
    "    values ('屏東(枋山)','屏東縣',34,'良好',18,'2024-11-04 10:00',22.260899,120.651472)\n",
    "    '''\n",
    "    cursor = conn.cursor()\n",
    "    cursor.execute(sql)"
   ]
  },
  {
   "cell_type": "markdown",
   "metadata": {},
   "source": [
    "匯入資料"
   ]
  },
  {
   "cell_type": "code",
   "execution_count": 31,
   "metadata": {},
   "outputs": [],
   "source": [
    "import sqlite3\n",
    "import L7datasource\n",
    "L7datasource.get_all_data()"
   ]
  },
  {
   "cell_type": "code",
   "execution_count": 19,
   "metadata": {},
   "outputs": [
    {
     "name": "stdout",
     "output_type": "stream",
     "text": [
      "['三義', '三重', '中壢', '中山', '二林', '仁武', '冬山', '前金', '前鎮', '南投', '古亭', '善化', '嘉義', '土城', '埔里', '基隆', '士林', '大同', '大園', '大城', '大寮', '大里', '安南', '宜蘭', '宜蘭（頭城）', '富貴角', '小港', '屏東', '屏東(枋山)', '屏東（琉球）', '崙背', '左營', '平鎮', '彰化', '彰化（員林）', '復興', '忠明', '恆春', '斗六', '新北(樹林)', '新店', '新港', '新營', '新竹', '新莊', '朴子', '松山', '板橋', '林口', '林園', '桃園', '楠梓', '橋頭', '永和', '汐止', '沙鹿', '淡水', '湖口', '潮州', '竹山', '竹東', '線西', '美濃', '臺南', '臺南（麻豆）', '臺東', '臺西', '花蓮', '苗栗', '菜寮', '萬華', '萬里', '西屯', '觀音', '豐原', '金門', '關山', '陽明', '頭份', '馬公', '馬祖', '高雄（湖內）', '鳳山', '麥寮', '龍潭']\n"
     ]
    }
   ],
   "source": [
    "conn = sqlite3.connect('aqi2.db')\n",
    "with conn:\n",
    "    cursor = conn.cursor()\n",
    "    sql= '''\n",
    "    SELECT DISTINCT sitename\n",
    "    FROM records\n",
    "    '''\n",
    "    cursor.execute(sql)\n",
    "    sitenames = []\n",
    "\n",
    "    for items in cursor.fetchall():\n",
    "        sitenames.append(items[0])\n",
    "\n",
    "    print(sitenames)"
   ]
  },
  {
   "cell_type": "code",
   "execution_count": 33,
   "metadata": {},
   "outputs": [
    {
     "ename": "ProgrammingError",
     "evalue": "Incorrect number of bindings supplied. The current statement uses 1, and there are 0 supplied.",
     "output_type": "error",
     "traceback": [
      "\u001b[1;31m---------------------------------------------------------------------------\u001b[0m",
      "\u001b[1;31mProgrammingError\u001b[0m                          Traceback (most recent call last)",
      "Cell \u001b[1;32mIn[33], line 10\u001b[0m\n\u001b[0;32m      3\u001b[0m cursor \u001b[38;5;241m=\u001b[39m conn\u001b[38;5;241m.\u001b[39mcursor()        \n\u001b[0;32m      4\u001b[0m sql \u001b[38;5;241m=\u001b[39m \u001b[38;5;124m'''\u001b[39m\n\u001b[0;32m      5\u001b[0m \u001b[38;5;124mSELECT date,county,aqi,pm25,status,lat,lon\u001b[39m\n\u001b[0;32m      6\u001b[0m \u001b[38;5;124mFROM records\u001b[39m\n\u001b[0;32m      7\u001b[0m \u001b[38;5;124mWHERE sitename=?\u001b[39m\n\u001b[0;32m      8\u001b[0m \u001b[38;5;124mORDER BY date DESC;\u001b[39m\n\u001b[0;32m      9\u001b[0m \u001b[38;5;124m\u001b[39m\u001b[38;5;124m'''\u001b[39m\n\u001b[1;32m---> 10\u001b[0m \u001b[43mcursor\u001b[49m\u001b[38;5;241;43m.\u001b[39;49m\u001b[43mexecute\u001b[49m\u001b[43m(\u001b[49m\u001b[43msql\u001b[49m\u001b[43m)\u001b[49m\n\u001b[0;32m     11\u001b[0m sitename_list \u001b[38;5;241m=\u001b[39m [\u001b[38;5;28mlist\u001b[39m(item) \u001b[38;5;28;01mfor\u001b[39;00m item \u001b[38;5;129;01min\u001b[39;00m cursor\u001b[38;5;241m.\u001b[39mfetchall()]\n\u001b[0;32m     12\u001b[0m \u001b[38;5;28mprint\u001b[39m(sitename_list)\n",
      "\u001b[1;31mProgrammingError\u001b[0m: Incorrect number of bindings supplied. The current statement uses 1, and there are 0 supplied."
     ]
    }
   ],
   "source": [
    "conn = sqlite3.connect(\"AQI.db\")\n",
    "with conn:\n",
    "    cursor = conn.cursor()        \n",
    "    sql = '''\n",
    "    SELECT date,county,aqi,pm25,status,lat,lon\n",
    "    FROM records\n",
    "    WHERE sitename=?\n",
    "    ORDER BY date DESC;\n",
    "    '''\n",
    "    cursor.execute(sql,('富貴角',))\n",
    "    sitename_list = [list(item) for item in cursor.fetchall()]\n",
    "    print(sitename_list)"
   ]
  }
 ],
 "metadata": {
  "kernelspec": {
   "display_name": "venv",
   "language": "python",
   "name": "python3"
  },
  "language_info": {
   "codemirror_mode": {
    "name": "ipython",
    "version": 3
   },
   "file_extension": ".py",
   "mimetype": "text/x-python",
   "name": "python",
   "nbconvert_exporter": "python",
   "pygments_lexer": "ipython3",
   "version": "3.11.10"
  }
 },
 "nbformat": 4,
 "nbformat_minor": 2
}
