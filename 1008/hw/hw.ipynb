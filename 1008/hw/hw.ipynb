{
 "cells": [
  {
   "cell_type": "markdown",
   "metadata": {},
   "source": [
    "name,age,city  \n",
    "John,23,New York  \n",
    "Jane,29,Los Angeles  \n",
    "Doe,25,Chicago  \n",
    "Anna,22,Houston  "
   ]
  },
  {
   "cell_type": "code",
   "execution_count": 23,
   "metadata": {},
   "outputs": [
    {
     "name": "stdout",
     "output_type": "stream",
     "text": [
      "{'name': 'John', 'age': '23', 'city': 'New York'}\n",
      "{'name': 'Jane', 'age': '29', 'city': 'Los Angeles'}\n",
      "{'name': 'Doe', 'age': '25', 'city': 'Chicago'}\n",
      "{'name': 'Anna', 'age': '22', 'city': 'Houston'}\n"
     ]
    }
   ],
   "source": [
    "import csv\n",
    "rstd = {}\n",
    "stdl = []\n",
    "counter = 0\n",
    "with open(\"student.csv\",encoding=\"utf-8\") as file:\n",
    "    rsts = csv.reader(file)\n",
    "    # print(type(rsts))\n",
    "    for i in rsts:\n",
    "        if counter ==0:\n",
    "            counter+=1\n",
    "            continue\n",
    "        rstd[\"name\"], rstd[\"age\"], rstd[\"city\"] = i\n",
    "        print(rstd)\n",
    "        stdl.append(rstd)\n",
    "        rstd = {}\n",
    "     "
   ]
  },
  {
   "cell_type": "markdown",
   "metadata": {},
   "source": [
    "stdl = [  \n",
    "{'name': 'John', 'age': '23', 'city': 'New York'},   \n",
    "{'name': 'Jane', 'age': '29', 'city': 'Los Angeles'},   \n",
    "{'name': 'Doe', 'age': '25', 'city': 'Chicago'},   \n",
    "{'name': 'Anna', 'age': '22', 'city': 'Houston'}  \n",
    "]"
   ]
  },
  {
   "cell_type": "code",
   "execution_count": 35,
   "metadata": {},
   "outputs": [
    {
     "name": "stdout",
     "output_type": "stream",
     "text": [
      "{'name': 'Jane', 'age': '29', 'city': 'Los Angeles'}\n"
     ]
    }
   ],
   "source": [
    "YOlder = \"\"\n",
    "for i in stdl:\n",
    "    if int(i[\"age\"]) > 25:YOlder = i\n",
    "print(YOlder)"
   ]
  },
  {
   "cell_type": "code",
   "execution_count": 37,
   "metadata": {},
   "outputs": [],
   "source": [
    "with open(\"filtered_data.csv\",\"w\",encoding=\"utf-8\") as OLD:\n",
    "    for i in YOlder.values():\n",
    "        OLD.write(i)\n",
    "        OLD.write(\",\")\n",
    "        "
   ]
  }
 ],
 "metadata": {
  "kernelspec": {
   "display_name": "venv",
   "language": "python",
   "name": "python3"
  },
  "language_info": {
   "codemirror_mode": {
    "name": "ipython",
    "version": 3
   },
   "file_extension": ".py",
   "mimetype": "text/x-python",
   "name": "python",
   "nbconvert_exporter": "python",
   "pygments_lexer": "ipython3",
   "version": "3.11.10"
  }
 },
 "nbformat": 4,
 "nbformat_minor": 2
}
