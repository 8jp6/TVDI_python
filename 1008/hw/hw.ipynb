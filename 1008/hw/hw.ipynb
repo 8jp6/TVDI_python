{
 "cells": [
  {
   "cell_type": "markdown",
   "metadata": {},
   "source": [
    "name,age,city  \n",
    "John,23,New York  \n",
    "Jane,29,Los Angeles  \n",
    "Doe,25,Chicago  \n",
    "Anna,22,Houston  "
   ]
  },
  {
   "cell_type": "code",
   "execution_count": 42,
   "metadata": {},
   "outputs": [
    {
     "name": "stdout",
     "output_type": "stream",
     "text": [
      "{'name': 'John', 'age': '23', 'city': 'New York'}\n",
      "23\n",
      "{'name': 'Jane', 'age': '29', 'city': 'Los Angeles'}\n",
      "23\n",
      "{'name': 'Doe', 'age': '25', 'city': 'Chicago'}\n",
      "23\n",
      "{'name': 'Anna', 'age': '22', 'city': 'Houston'}\n",
      "23\n"
     ]
    }
   ],
   "source": [
    "import csv\n",
    "rstd = {}\n",
    "stdl = []\n",
    "counter = 0\n",
    "with open(\"student.csv\",encoding=\"utf-8\") as file:\n",
    "    rsts = csv.reader(file)\n",
    "    # print(type(rsts))\n",
    "    for i in rsts:\n",
    "        if counter ==0:\n",
    "            counter+=1\n",
    "            continue\n",
    "        rstd[\"name\"], rstd[\"age\"], rstd[\"city\"] = i\n",
    "        print(rstd)\n",
    "        stdl.append(rstd)\n",
    "        rstd = {}"
   ]
  },
  {
   "cell_type": "code",
   "execution_count": 41,
   "metadata": {},
   "outputs": [
    {
     "ename": "TypeError",
     "evalue": "list indices must be integers or slices, not dict",
     "output_type": "error",
     "traceback": [
      "\u001b[1;31m---------------------------------------------------------------------------\u001b[0m",
      "\u001b[1;31mTypeError\u001b[0m                                 Traceback (most recent call last)",
      "Cell \u001b[1;32mIn[41], line 3\u001b[0m\n\u001b[0;32m      1\u001b[0m older \u001b[38;5;241m=\u001b[39m []\n\u001b[0;32m      2\u001b[0m \u001b[38;5;28;01mfor\u001b[39;00m j \u001b[38;5;129;01min\u001b[39;00m stdl:\n\u001b[1;32m----> 3\u001b[0m     \u001b[38;5;28;01mif\u001b[39;00m \u001b[38;5;28mint\u001b[39m(\u001b[43mstdl\u001b[49m\u001b[43m[\u001b[49m\u001b[43mj\u001b[49m\u001b[43m]\u001b[49m[\u001b[38;5;124m\"\u001b[39m\u001b[38;5;124mage\u001b[39m\u001b[38;5;124m\"\u001b[39m]) \u001b[38;5;241m>\u001b[39m \u001b[38;5;241m25\u001b[39m:\n\u001b[0;32m      4\u001b[0m         older\u001b[38;5;241m.\u001b[39mappend(stdl[j])\n\u001b[0;32m      5\u001b[0m \u001b[38;5;28mprint\u001b[39m(older)\n",
      "\u001b[1;31mTypeError\u001b[0m: list indices must be integers or slices, not dict"
     ]
    }
   ],
   "source": [
    "older = []\n",
    "for j in stdl:\n",
    "    if int(stdl[j][\"age\"]) > 25:\n",
    "        older.append(stdl[j])\n",
    "print(older)"
   ]
  }
 ],
 "metadata": {
  "kernelspec": {
   "display_name": "venv1",
   "language": "python",
   "name": "python3"
  },
  "language_info": {
   "codemirror_mode": {
    "name": "ipython",
    "version": 3
   },
   "file_extension": ".py",
   "mimetype": "text/x-python",
   "name": "python",
   "nbconvert_exporter": "python",
   "pygments_lexer": "ipython3",
   "version": "3.11.10"
  }
 },
 "nbformat": 4,
 "nbformat_minor": 2
}
