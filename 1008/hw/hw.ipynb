{
 "cells": [
  {
   "cell_type": "code",
   "execution_count": 12,
   "metadata": {},
   "outputs": [
    {
     "name": "stdout",
     "output_type": "stream",
     "text": [
      "{'name': 'John', 'age': '23', 'city': 'New York'}\n",
      "{'name': 'Jane', 'age': '29', 'city': 'Los Angeles'}\n",
      "{'name': 'Doe', 'age': '25', 'city': 'Chicago'}\n",
      "{'name': 'Anna', 'age': '22', 'city': 'Houston'}\n"
     ]
    }
   ],
   "source": [
    "import csv\n",
    "with open(\"student.csv\",encoding=\"utf-8\", newline = \"\") as file:\n",
    "    rsts = list(csv.DictReader(file))\n",
    "    # print(type(rsts))\n",
    "    for i in rsts:\n",
    "        print(i)\n",
    "\n",
    "    rstl = []\n",
    "    for i in rsts:\n",
    "        if int(i[\"age\"]) > 25:\n",
    "            rstl.append(i)\n",
    "     "
   ]
  },
  {
   "cell_type": "code",
   "execution_count": 13,
   "metadata": {},
   "outputs": [
    {
     "name": "stdout",
     "output_type": "stream",
     "text": [
      "[{'name': 'Jane', 'age': '29', 'city': 'Los Angeles'}]\n"
     ]
    }
   ],
   "source": [
    "print(rstl)\n",
    "with open('filtered_data.csv',mode='w',encoding='utf-8',newline='') as f:\n",
    "    fieldnames = ['name', 'age','city']\n",
    "    dict_writer = csv.DictWriter(f,fieldnames=fieldnames)\n",
    "    dict_writer.writeheader()\n",
    "    for item in rstl:\n",
    "        dict_writer.writerow(item)\n",
    "\n",
    "# YOlder = []\n",
    "# for i in stdl:\n",
    "#     if int(i[\"age\"]) > 25:YOlder.append(i)\n",
    "# print(YOlder)"
   ]
  },
  {
   "cell_type": "code",
   "execution_count": 8,
   "metadata": {},
   "outputs": [],
   "source": [
    "\n",
    "# with open(\"filtered_data.csv\",\"w\",encoding=\"utf-8\") as OLD:\n",
    "#     for i in YOlder:\n",
    "#         for key, value in i.items():\n",
    "#             OLD.write(f\"{key} , {value} ,\")\n",
    "        "
   ]
  }
 ],
 "metadata": {
  "kernelspec": {
   "display_name": "venv",
   "language": "python",
   "name": "python3"
  },
  "language_info": {
   "codemirror_mode": {
    "name": "ipython",
    "version": 3
   },
   "file_extension": ".py",
   "mimetype": "text/x-python",
   "name": "python",
   "nbconvert_exporter": "python",
   "pygments_lexer": "ipython3",
   "version": "3.11.10"
  }
 },
 "nbformat": 4,
 "nbformat_minor": 2
}
