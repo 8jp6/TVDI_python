{
 "cells": [
  {
   "cell_type": "code",
   "execution_count": 51,
   "metadata": {},
   "outputs": [
    {
     "data": {
      "text/plain": [
       "<Response [200]>"
      ]
     },
     "metadata": {},
     "output_type": "display_data"
    }
   ],
   "source": [
    "import requests\n",
    "from requests import Response\n",
    "url = \"https://tpnco.blob.core.windows.net/blobfs/Rally/TodayUrgentCase.json\"\n",
    "try:\n",
    "    response:Response = requests.get(url)\n",
    "    print(response.text)\n",
    "except Exception as e:\n",
    "    print(e)\n"
   ]
  },
  {
   "cell_type": "code",
   "execution_count": 14,
   "metadata": {},
   "outputs": [],
   "source": [
    "import requests\n",
    "from requests import Response\n",
    "import csv\n",
    "import pandas\n",
    "import os\n",
    "import sqlite3"
   ]
  },
  {
   "cell_type": "code",
   "execution_count": null,
   "metadata": {},
   "outputs": [],
   "source": [
    "df = pandas.read_json('TodayUrgentCase.json',orient='records')\n",
    "display(df)"
   ]
  },
  {
   "cell_type": "code",
   "execution_count": 36,
   "metadata": {},
   "outputs": [
    {
     "name": "stdout",
     "output_type": "stream",
     "text": [
      "TWD97轉WGS84: Latitude: 25.02091, Longitude: 121.5518\n"
     ]
    }
   ],
   "source": [
    "from pyproj import Transformer\n",
    "\n",
    "# 創建轉換器\n",
    "transformer = Transformer.from_crs(\"epsg:3826\", \"epsg:4326\")\n",
    "twd97_x = 305689.109\n",
    "twd97_y = 2768207.525\n",
    "# 轉換 TWD97 到 WGS84\n",
    "latitude,longitude = transformer.transform(twd97_x, twd97_y)\n",
    "\n",
    "print(f\"TWD97轉WGS84: Latitude: {latitude:.7}, Longitude: {longitude:.7}\")\n"
   ]
  },
  {
   "cell_type": "markdown",
   "metadata": {},
   "source": [
    "twd97是台灣的座標系統\n",
    "WGS84是世界的座標系統\n",
    "經度 longitude\n",
    "緯度 latitude\n",
    "所以台灣的X = longitude, Y = latitude"
   ]
  },
  {
   "cell_type": "code",
   "execution_count": 40,
   "metadata": {},
   "outputs": [
    {
     "name": "stdout",
     "output_type": "stream",
     "text": [
      "7號, 樂業街118巷, 芳和里, 大安區, 六張犁, 臺北市, 106, 臺灣\n"
     ]
    }
   ],
   "source": [
    "from geopy.geocoders import Nominatim\n",
    "\n",
    "# 初始化 Nominatim 反向地理編碼器\n",
    "geolocator = Nominatim(user_agent=\"PROJ\")\n",
    "\n",
    "def get_address_from_coordinates(lat, lon):\n",
    "    \"\"\" 根據經緯度獲取地址或道路名稱 \"\"\"\n",
    "    location = geolocator.reverse((lat, lon), language='zh-TW', exactly_one=True)\n",
    "    if location:\n",
    "        return location.address\n",
    "    return \"未找到地址\"\n",
    "\n",
    "# 範例：查詢經緯度 (台北市)\n",
    "latitude = 25.02066\n",
    "longitude = 121.5518\n",
    "\n",
    "address = get_address_from_coordinates(latitude, longitude)\n",
    "print(address)\n",
    "print(f\"座標 ({latitude}, {longitude}) 對應的地址是：{address}\")\n"
   ]
  },
  {
   "cell_type": "code",
   "execution_count": 47,
   "metadata": {},
   "outputs": [
    {
     "name": "stdout",
     "output_type": "stream",
     "text": [
      "['臺灣', '106', '臺北市', '六張犁', '大安區', '芳和里', '樂業街118巷', '7號']\n"
     ]
    }
   ],
   "source": [
    "address = \"7號, 樂業街118巷, 芳和里, 大安區, 六張犁, 臺北市, 106, 臺灣\"\n",
    "list_address = [item.strip() for item in address.split(\",\")]\n",
    "list_address.reverse()\n",
    "print(list_address)\n",
    "dic_address = {} \n"
   ]
  }
 ],
 "metadata": {
  "kernelspec": {
   "display_name": "venv",
   "language": "python",
   "name": "python3"
  },
  "language_info": {
   "codemirror_mode": {
    "name": "ipython",
    "version": 3
   },
   "file_extension": ".py",
   "mimetype": "text/x-python",
   "name": "python",
   "nbconvert_exporter": "python",
   "pygments_lexer": "ipython3",
   "version": "3.11.10"
  }
 },
 "nbformat": 4,
 "nbformat_minor": 2
}
