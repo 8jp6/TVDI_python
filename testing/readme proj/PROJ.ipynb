{
 "cells": [
  {
   "cell_type": "code",
   "execution_count": null,
   "metadata": {},
   "outputs": [
    {
     "name": "stdout",
     "output_type": "stream",
     "text": [
      "name 'JSON' is not defined\n"
     ]
    }
   ],
   "source": [
    "import requests\n",
    "from requests import Response\n",
    "url = \"https://tpnco.blob.core.windows.net/blobfs/Rally/TodayUrgentCase.json\"\n",
    "try:\n",
    "    response:Response = requests.get(url)\n",
    "    response_json = response.json()\n",
    "    print(response.text)\n",
    "except Exception as e:\n",
    "    print(e)\n"
   ]
  },
  {
   "cell_type": "code",
   "execution_count": 3,
   "metadata": {},
   "outputs": [],
   "source": [
    "import requests\n",
    "from requests import Response\n",
    "import csv\n",
    "import pandas\n",
    "import os\n",
    "import sqlite3"
   ]
  },
  {
   "cell_type": "code",
   "execution_count": 4,
   "metadata": {},
   "outputs": [
    {
     "data": {
      "text/html": [
       "<div>\n",
       "<style scoped>\n",
       "    .dataframe tbody tr th:only-of-type {\n",
       "        vertical-align: middle;\n",
       "    }\n",
       "\n",
       "    .dataframe tbody tr th {\n",
       "        vertical-align: top;\n",
       "    }\n",
       "\n",
       "    .dataframe thead th {\n",
       "        text-align: right;\n",
       "    }\n",
       "</style>\n",
       "<table border=\"1\" class=\"dataframe\">\n",
       "  <thead>\n",
       "    <tr style=\"text-align: right;\">\n",
       "      <th></th>\n",
       "      <th>type</th>\n",
       "      <th>features</th>\n",
       "    </tr>\n",
       "  </thead>\n",
       "  <tbody>\n",
       "    <tr>\n",
       "      <th>0</th>\n",
       "      <td>FeatureCollection</td>\n",
       "      <td>{'type': 'Feature', 'geometry': {'type': 'Poly...</td>\n",
       "    </tr>\n",
       "    <tr>\n",
       "      <th>1</th>\n",
       "      <td>FeatureCollection</td>\n",
       "      <td>{'type': 'Feature', 'geometry': {'type': 'Poly...</td>\n",
       "    </tr>\n",
       "    <tr>\n",
       "      <th>2</th>\n",
       "      <td>FeatureCollection</td>\n",
       "      <td>{'type': 'Feature', 'geometry': {'type': 'Poly...</td>\n",
       "    </tr>\n",
       "    <tr>\n",
       "      <th>3</th>\n",
       "      <td>FeatureCollection</td>\n",
       "      <td>{'type': 'Feature', 'geometry': {'type': 'Poly...</td>\n",
       "    </tr>\n",
       "    <tr>\n",
       "      <th>4</th>\n",
       "      <td>FeatureCollection</td>\n",
       "      <td>{'type': 'Feature', 'geometry': {'type': 'Poly...</td>\n",
       "    </tr>\n",
       "    <tr>\n",
       "      <th>...</th>\n",
       "      <td>...</td>\n",
       "      <td>...</td>\n",
       "    </tr>\n",
       "    <tr>\n",
       "      <th>483</th>\n",
       "      <td>FeatureCollection</td>\n",
       "      <td>{'type': 'Feature', 'geometry': {'type': 'Poly...</td>\n",
       "    </tr>\n",
       "    <tr>\n",
       "      <th>484</th>\n",
       "      <td>FeatureCollection</td>\n",
       "      <td>{'type': 'Feature', 'geometry': {'type': 'Poly...</td>\n",
       "    </tr>\n",
       "    <tr>\n",
       "      <th>485</th>\n",
       "      <td>FeatureCollection</td>\n",
       "      <td>{'type': 'Feature', 'geometry': {'type': 'Poly...</td>\n",
       "    </tr>\n",
       "    <tr>\n",
       "      <th>486</th>\n",
       "      <td>FeatureCollection</td>\n",
       "      <td>{'type': 'Feature', 'geometry': {'type': 'Poly...</td>\n",
       "    </tr>\n",
       "    <tr>\n",
       "      <th>487</th>\n",
       "      <td>FeatureCollection</td>\n",
       "      <td>{'type': 'Feature', 'geometry': {'type': 'Poly...</td>\n",
       "    </tr>\n",
       "  </tbody>\n",
       "</table>\n",
       "<p>488 rows × 2 columns</p>\n",
       "</div>"
      ],
      "text/plain": [
       "                  type                                           features\n",
       "0    FeatureCollection  {'type': 'Feature', 'geometry': {'type': 'Poly...\n",
       "1    FeatureCollection  {'type': 'Feature', 'geometry': {'type': 'Poly...\n",
       "2    FeatureCollection  {'type': 'Feature', 'geometry': {'type': 'Poly...\n",
       "3    FeatureCollection  {'type': 'Feature', 'geometry': {'type': 'Poly...\n",
       "4    FeatureCollection  {'type': 'Feature', 'geometry': {'type': 'Poly...\n",
       "..                 ...                                                ...\n",
       "483  FeatureCollection  {'type': 'Feature', 'geometry': {'type': 'Poly...\n",
       "484  FeatureCollection  {'type': 'Feature', 'geometry': {'type': 'Poly...\n",
       "485  FeatureCollection  {'type': 'Feature', 'geometry': {'type': 'Poly...\n",
       "486  FeatureCollection  {'type': 'Feature', 'geometry': {'type': 'Poly...\n",
       "487  FeatureCollection  {'type': 'Feature', 'geometry': {'type': 'Poly...\n",
       "\n",
       "[488 rows x 2 columns]"
      ]
     },
     "metadata": {},
     "output_type": "display_data"
    }
   ],
   "source": [
    "df = pandas.read_json('TodayUrgentCase.json',orient='records')\n",
    "display(df)"
   ]
  },
  {
   "cell_type": "code",
   "execution_count": null,
   "metadata": {},
   "outputs": [
    {
     "name": "stdout",
     "output_type": "stream",
     "text": [
      "TWD97轉WGS84: Latitude: 25.02091, Longitude: 121.5518\n"
     ]
    }
   ],
   "source": [
    "from pyproj import Transformer\n",
    "\n",
    "# 創建轉換器\n",
    "transformer = Transformer.from_crs(\"epsg:3826\", \"epsg:4326\")\n",
    "twd97_x = 305689.109\n",
    "twd97_y = 2768207.525\n",
    "# 轉換 TWD97 到 WGS84\n",
    "latitude,longitude = transformer.transform(twd97_x, twd97_y)\n",
    "\n",
    "print(f'TWD97轉WGS84: Latitude: {latitude:.7}, Longitude: {longitude:.7}')\n"
   ]
  },
  {
   "cell_type": "markdown",
   "metadata": {},
   "source": [
    "twd97是台灣的座標系統\n",
    "WGS84是世界的座標系統\n",
    "經度 longitude\n",
    "緯度 latitude\n",
    "所以台灣的X = longitude, Y = latitude"
   ]
  },
  {
   "cell_type": "code",
   "execution_count": null,
   "metadata": {},
   "outputs": [
    {
     "name": "stdout",
     "output_type": "stream",
     "text": [
      "7號, 樂業街118巷, 芳和里, 大安區, 六張犁, 臺北市, 106, 臺灣\n"
     ]
    }
   ],
   "source": [
    "from geopy.geocoders import Nominatim\n",
    "\n",
    "# 初始化 Nominatim 反向地理編碼器\n",
    "geolocator = Nominatim(user_agent='PROJ')\n",
    "\n",
    "def get_address_from_coordinates(lat, lon):\n",
    "    \"\"\" 根據經緯度獲取地址或道路名稱 \"\"\"\n",
    "    location = geolocator.reverse((lat, lon), language='zh-TW', exactly_one=True)\n",
    "    if location:\n",
    "        return location.address\n",
    "    return \"未找到地址\"\n",
    "\n",
    "# 範例：查詢經緯度 (台北市)\n",
    "latitude = 25.02066\n",
    "longitude = 121.5518\n",
    "\n",
    "address = get_address_from_coordinates(latitude, longitude)\n",
    "print(address)\n",
    "print(f\"座標 ({latitude}, {longitude}) 對應的地址是：{address}\")\n"
   ]
  },
  {
   "cell_type": "code",
   "execution_count": 47,
   "metadata": {},
   "outputs": [
    {
     "name": "stdout",
     "output_type": "stream",
     "text": [
      "['臺灣', '106', '臺北市', '六張犁', '大安區', '芳和里', '樂業街118巷', '7號']\n"
     ]
    }
   ],
   "source": [
    "address = \"7號, 樂業街118巷, 芳和里, 大安區, 六張犁, 臺北市, 106, 臺灣\"\n",
    "list_address = [item.strip() for item in address.split(\",\")]\n",
    "list_address.reverse()\n",
    "print(list_address)\n",
    "dic_address = {} \n"
   ]
  },
  {
   "cell_type": "code",
   "execution_count": 23,
   "metadata": {},
   "outputs": [
    {
     "data": {
      "text/plain": [
       "dict"
      ]
     },
     "metadata": {},
     "output_type": "display_data"
    },
    {
     "name": "stdout",
     "output_type": "stream",
     "text": [
      "BILL_CODE:10967113535908\n",
      "URGENT_RCV_DATE:20241017\n",
      "URGENT_START_DATE:20241116000000\n",
      "URGENT_END_DATE:20241116220000\n",
      "URGENT_ADDRESS1:台北市樂業街108巷1至11號\n",
      "X1:305689.109\n",
      "Y1:2768179.406\n",
      "URGENT_ADDRESS2:台北市樂業街116號圍牆及118巷2~8號\n",
      "X2:305689.109\n",
      "Y2:2768179.406\n"
     ]
    }
   ],
   "source": [
    "display(type(response_json))\n",
    "# print(response_json[\"features\"][0][\"properties\"])\n",
    "response_json01 = response_json[\"features\"][0][\"properties\"]\n",
    "for k,v in response_json01.items():\n",
    "    print(f\"{k}:{v}\")"
   ]
  },
  {
   "cell_type": "code",
   "execution_count": 5,
   "metadata": {},
   "outputs": [],
   "source": [
    "    \n",
    "def download_data():\n",
    "    conn = sqlite3.connect(\"TPEroad.db\")\n",
    "    url = 'https://tpnco.blob.core.windows.net/blobfs/Rally/TodayUrgentCase.json'\n",
    "    try:\n",
    "        response = requests.get(url)\n",
    "        response.raise_for_status()\n",
    "        data = response.json()\n",
    "        with conn:\n",
    "            cursor = conn.cursor()\n",
    "            cursor.execute('''\n",
    "            CREATE TABLE IF NOT EXISTS records (\n",
    "                id INTEGER PRIMARY KEY AUTOINCREMENT,\n",
    "                Bill_code TEXT,\n",
    "                RCVdate TEXT,\n",
    "                Start_date TEXT,\n",
    "                End_date TEXT,\n",
    "                Address1 TEXT,\n",
    "                X1 TEXT,\n",
    "                Y1 TEXT,\n",
    "                Address2 TEXT,\n",
    "                X2 TEXT,\n",
    "                Y2 TEXT\n",
    "            )\n",
    "            ''')\n",
    "            print(\"Table 'records' created or already exists.\")\n",
    "    except Exception as e:\n",
    "        print(e)\n",
    "\n",
    "    else:\n",
    "        with conn:\n",
    "            cursor = conn.cursor()\n",
    "            for i in response_json['features']:\n",
    "                for k in i['properties']:\n",
    "                    Bill_code:str = i['properties'][\"BILL_CODE\"]\n",
    "                    RCVdate = i['properties'][\"URGENT_RCV_DATE\"]\n",
    "                    Start_date = i['properties'][\"URGENT_START_DATE\"]\n",
    "                    End_date = i['properties'][\"URGENT_END_DATE\"]\n",
    "                    Address1 = i['properties'][\"URGENT_ADDRESS1\"]\n",
    "                    X1 = i['properties'][\"X1\"]\n",
    "                    Y1 = i['properties'][\"Y1\"]\n",
    "                    Address2 = i['properties'][\"URGENT_ADDRESS2\"]\n",
    "                    X2 = i['properties'][\"X2\"]\n",
    "                    Y2 = i['properties'][\"Y2\"]\n",
    "                    \n",
    "                    cursor = conn.cursor()\n",
    "                    sql = '''INSERT OR IGNORE INTO records(Bill_code, RCVdate, Start_date, End_date, Address1, X1, Y1, Address2, X2, Y2)\n",
    "                                values (?, ?, ?, ?, ?, ?, ?, ?, ?, ?);\n",
    "                            '''\n",
    "                    cursor.execute(sql,(Bill_code, RCVdate, Start_date, End_date, Address1, X1, Y1, Address2, X2, Y2))"
   ]
  },
  {
   "cell_type": "code",
   "execution_count": null,
   "metadata": {},
   "outputs": [],
   "source": [
    "# download_data()\n",
    "\n",
    "conn = sqlite3.connect('TPEroad.db')\n",
    "cursor = conn.cursor()\n",
    "sql = \"\"\"\n",
    "    SELECT * FROM RECORDS\n",
    "\"\"\"\n",
    "cursor.execute(sql)\n",
    "cursor.close()\n",
    "conn.close()"
   ]
  }
 ],
 "metadata": {
  "kernelspec": {
   "display_name": "venv1",
   "language": "python",
   "name": "python3"
  },
  "language_info": {
   "codemirror_mode": {
    "name": "ipython",
    "version": 3
   },
   "file_extension": ".py",
   "mimetype": "text/x-python",
   "name": "python",
   "nbconvert_exporter": "python",
   "pygments_lexer": "ipython3",
   "version": "3.11.10"
  }
 },
 "nbformat": 4,
 "nbformat_minor": 2
}
